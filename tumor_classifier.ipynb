{
 "cells": [
  {
   "cell_type": "code",
   "execution_count": 18,
   "id": "a9a7e7c7-1ac0-4326-8604-7b9965c011cf",
   "metadata": {
    "dotnet_interactive": {
     "language": "csharp"
    },
    "polyglot_notebook": {
     "kernelName": "csharp"
    },
    "scrolled": true
   },
   "outputs": [],
   "source": [
    "import torch\n",
    "import pandas as pd\n",
    "import numpy as np\n",
    "import matplotlib.pyplot as plt \n",
    "import os\n",
    "import shutil\n",
    "import cv2\n",
    "import matplotlib.image as mpimg\n",
    "import seaborn as sns\n",
    "%matplotlib inline\n",
    "plt.style.use('ggplot')"
   ]
  },
  {
   "cell_type": "code",
   "execution_count": 17,
   "id": "14955b8d-36a9-4179-a41e-77fdf265eb75",
   "metadata": {},
   "outputs": [],
   "source": [
    "import zipfile \n",
    "z = zipfile.ZipFile('archive.zip')\n",
    "z.extractall()"
   ]
  },
  {
   "cell_type": "code",
   "execution_count": null,
   "id": "2f7e122d-ddbc-41a8-b468-2615ede31bbf",
   "metadata": {},
   "outputs": [],
   "source": [
    "## EDA: Exploratory Data Analysis"
   ]
  },
  {
   "cell_type": "code",
   "execution_count": null,
   "id": "adc75304-4197-4b53-ad96-919c3e36f741",
   "metadata": {},
   "outputs": [],
   "source": [
    "listyes = os.listdir(\"brain_tumor_dataset/yes/\")\n",
    "number_files_yes = len(listyes)\n",
    "print(number_files_yes)\n",
    "\n",
    "listno = os.listdir(\"brain_tumor_dataset/no/\")\n",
    "number_files_no = len(listno)\n",
    "print(number_files_no)"
   ]
  },
  {
   "cell_type": "code",
   "execution_count": null,
   "id": "71f27856-d71f-4c57-90cc-1db6bb1d7416",
   "metadata": {},
   "outputs": [],
   "source": [
    "# Plot \n",
    "data = {\n",
    "    'tumorous': number_files_yes, \n",
    "    'non-tumorous': number_files_no\n",
    "}\n",
    "typex = data.keys()\n",
    "values = data.values()\n",
    "\n",
    "fig = plt.figure(figsize=(5, 7))\n",
    "plt.bar(typex, values, color='red')\n",
    "plt.xlabel(\"Data\")\n",
    "plt.ylabel(\"# of Brain Tumor Images\")\n",
    "plt.title(\"Count of Brain Tumor Images\") "
   ]
  },
  {
   "cell_type": "code",
   "execution_count": 50,
   "id": "75500135-b7a3-45a9-af8c-2a2195ee6379",
   "metadata": {},
   "outputs": [],
   "source": [
    "import torch \n",
    "from torch import nn\n",
    "from torchvision.transforms import v2\n",
    "from torchvision.transforms import InterpolationMode\n",
    "from PIL import Image\n",
    "def augmented_data(file_dir, n_generated_samples, save_to_dir): \n",
    "    transforms = v2.Compose([\n",
    "        v2.RandomResizedCrop(224),  # Example of a spatial transformation\n",
    "        v2.RandomHorizontalFlip(),\n",
    "        v2.RandomVerticalFlip(),\n",
    "        v2.ColorJitter(brightness=0.2, contrast=0.2, saturation=0.2),  # Adjust brightness, contrast, and saturation\n",
    "        v2.RandomRotation(30),  # Example of a spatial transformation\n",
    "        v2.RandomAffine(degrees=0, translate=(0.1, 0.1)),  # Example of a spatial transformation\n",
    "        v2.ToTensor(),  # Convert PIL Image to Tensor\n",
    "    ])\n",
    "    for filename in os.listdir(file_dir): \n",
    "        image = Image.open(os.path.join(file_dir, filename))\n",
    "        image = image.convert('RGB')\n",
    "        \n",
    "        for i in range(n_generated_samples):  \n",
    "            augmented_image = v2.ToPILImage()(transforms(image))\n",
    "            new_filename = f\"aug_{filename[:-4]}_{i}.jpg\"\n",
    "            augmented_image.save(os.path.join(save_to_dir, new_filename))\n"
   ]
  },
  {
   "cell_type": "code",
   "execution_count": 46,
   "id": "d676a6cf-9584-467c-8657-ce0c4334d6c2",
   "metadata": {},
   "outputs": [],
   "source": [
    "def timing(sec_elapsed):\n",
    "    h = int(sec_elapsed / (60*60))\n",
    "    m = int(sec_elapsed % (60*60) / 60)\n",
    "    s = sec_elapsed % 60\n",
    "    return f\"{h}:{m}:{s}\""
   ]
  },
  {
   "cell_type": "code",
   "execution_count": 51,
   "id": "faa4aec6-63a5-47e2-8b55-ce314f02fc77",
   "metadata": {},
   "outputs": [
    {
     "name": "stdout",
     "output_type": "stream",
     "text": [
      "0:0:32.85387563705444\n"
     ]
    }
   ],
   "source": [
    "import time \n",
    "start_time = time.time()\n",
    "\n",
    "yes_path = 'brain_tumor_dataset/yes'\n",
    "no_path = 'brain_tumor_dataset/no'\n",
    "augmented_file_path = 'augmented_data/'\n",
    "\n",
    "#augmented_data(file_dir = yes_path, n_generated_samples=6, save_to_dir = augmented_file_path + 'yes')\n",
    "augmented_data(file_dir = no_path, n_generated_samples=9, save_to_dir = augmented_file_path + 'no')\n",
    "\n",
    "end_time = time.time()\n",
    "print(timing(end_time-start_time))"
   ]
  },
  {
   "cell_type": "code",
   "execution_count": 52,
   "id": "fb29aa88-5665-4ba6-ac61-e5586d9e77e4",
   "metadata": {},
   "outputs": [
    {
     "name": "stdout",
     "output_type": "stream",
     "text": [
      "Number of positive samples:  1854\n",
      "Number of Negative samples:  1764\n",
      "Total number of samples:  3618\n"
     ]
    }
   ],
   "source": [
    "print(\"Number of positive samples: \", len(os.listdir('augmented_data/yes/')))\n",
    "print(\"Number of Negative samples: \", len(os.listdir('augmented_data/no/')))\n",
    "print(\"Total number of samples: \", len(os.listdir('augmented_data/yes/')) + len(os.listdir('augmented_data/no/')))"
   ]
  },
  {
   "cell_type": "code",
   "execution_count": 53,
   "id": "919c7daa-ca0a-4453-9b9a-2dd1e20e4e46",
   "metadata": {},
   "outputs": [
    {
     "name": "stdout",
     "output_type": "stream",
     "text": [
      "All files renamed in yes directory\n"
     ]
    }
   ],
   "source": [
    "folder = 'augmented_data/yes/'\n",
    "count = 1\n",
    "\n",
    "for filename in os.listdir(folder): \n",
    "    source = folder + filename\n",
    "    destination = folder + \"Y_\" + str(count) + \".jpg\"\n",
    "    os.rename(source, destination)\n",
    "    count += 1\n",
    "print(\"All files renamed in yes directory\")"
   ]
  },
  {
   "cell_type": "code",
   "execution_count": 54,
   "id": "925b20ff-97d1-452f-a565-dff2634ebd6e",
   "metadata": {},
   "outputs": [
    {
     "name": "stdout",
     "output_type": "stream",
     "text": [
      "All files renamed in no directory\n"
     ]
    }
   ],
   "source": [
    "folder = 'augmented_data/no/'\n",
    "count = 1\n",
    "\n",
    "for filename in os.listdir(folder): \n",
    "    source = folder + filename\n",
    "    destination = folder + \"N_\" + str(count) + \".jpg\"\n",
    "    os.rename(source, destination)\n",
    "    count += 1\n",
    "print(\"All files renamed in no directory\")"
   ]
  },
  {
   "cell_type": "code",
   "execution_count": 55,
   "id": "65b5f986-8fe1-420c-9dc9-980dd79bd7f0",
   "metadata": {},
   "outputs": [
    {
     "name": "stdout",
     "output_type": "stream",
     "text": [
      "1854\n",
      "1764\n"
     ]
    },
    {
     "data": {
      "text/plain": [
       "Text(0.5, 1.0, 'Count of Brain Tumor Images')"
      ]
     },
     "execution_count": 55,
     "metadata": {},
     "output_type": "execute_result"
    },
    {
     "data": {
      "image/png": "[encoded data removed]",
      "text/plain": [
       "<Figure size 500x700 with 1 Axes>"
      ]
     },
     "metadata": {},
     "output_type": "display_data"
    }
   ],
   "source": [
    "# Plot \n",
    "listyes = os.listdir(\"augmented_data/yes/\")\n",
    "number_files_yes = len(listyes)\n",
    "print(number_files_yes)\n",
    "\n",
    "listno = os.listdir(\"augmented_data/no/\")\n",
    "number_files_no = len(listno)\n",
    "print(number_files_no)\n",
    "\n",
    "data = {\n",
    "    'tumorous': number_files_yes, \n",
    "    'non-tumorous': number_files_no\n",
    "}\n",
    "typex = data.keys()\n",
    "values = data.values()\n",
    "\n",
    "fig = plt.figure(figsize=(5, 7))\n",
    "plt.bar(typex, values, color='red')\n",
    "plt.xlabel(\"Data\")\n",
    "plt.ylabel(\"# of Brain Tumor Images\")\n",
    "plt.title(\"Count of Brain Tumor Images\") "
   ]
  },
  {
   "cell_type": "code",
   "execution_count": null,
   "id": "0e2ad565-6777-4622-a7c2-ad16d5016ad8",
   "metadata": {},
   "outputs": [],
   "source": [
    "# Data Preprocessing \n"
   ]
  }
 ],
 "metadata": {
  "kernelspec": {
   "display_name": ".venv",
   "language": "python",
   "name": ".venv"
  },
  "language_info": {
   "codemirror_mode": {
    "name": "ipython",
    "version": 3
   },
   "file_extension": ".py",
   "mimetype": "text/x-python",
   "name": "python",
   "nbconvert_exporter": "python",
   "pygments_lexer": "ipython3",
   "version": "3.11.0"
  },
  "polyglot_notebook": {
   "kernelInfo": {
    "defaultKernelName": "csharp",
    "items": [
     {
      "aliases": [],
      "name": "csharp"
     }
    ]
   }
  }
 },
 "nbformat": 4,
 "nbformat_minor": 5
}
